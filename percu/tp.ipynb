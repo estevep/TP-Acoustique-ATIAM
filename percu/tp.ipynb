{
 "cells": [
  {
   "cell_type": "code",
   "execution_count": 1,
   "metadata": {},
   "outputs": [],
   "source": [
    "import numpy as np\n",
    "import scipy.signal\n",
    "import scipy.io\n",
    "import matplotlib.pyplot as plt\n",
    "import matplotlib\n",
    "import math\n",
    "import scipy.optimize\n",
    "import pandas as pd\n",
    "from IPython.display import Audio\n",
    "import csv"
   ]
  },
  {
   "cell_type": "code",
   "execution_count": 2,
   "metadata": {},
   "outputs": [],
   "source": [
    "def nextpow2(N):\n",
    "    n = 1\n",
    "    while n < N:\n",
    "        n *= 2\n",
    "    return n"
   ]
  },
  {
   "cell_type": "code",
   "execution_count": 3,
   "metadata": {},
   "outputs": [],
   "source": [
    "def F_getF0FromSpectre(\n",
    "    fftFreq_hz_v, fftAmpl_v, H, fmin_hz, fmax_hz, Nfft, sr_hz, plot=False\n",
    "):\n",
    "    \"\"\"\n",
    "    inputs:\n",
    "        - fftFreq_hz_v (N/2+1,): vector containing the FFT frequencies in Hz\n",
    "        - fftAmpl_v (N/2+1,): vector containing the FFT amplitude\n",
    "        - H: number of times the spectrum is decimated\n",
    "        - fmin_hz: minimum frequency in Hz to look for F0\n",
    "        - fmax_hz: maximum frequency in Hz to look for F0\n",
    "        - Nfft: fft size\n",
    "        - sr_hz: sampling rate\n",
    "    outputs:\n",
    "        - spFreq_hz_v: vector containing the SpectralProduct frequencies in Hz\n",
    "        - spAmpl_v: vector containing the SpectralProduct amplitudes\n",
    "        - f0_hz: estimated F0 in Hz\n",
    "    \"\"\"\n",
    "    R = int(Nfft / (2 * H) + 1)\n",
    "    P = np.zeros(R)\n",
    "    h = np.atleast_2d(np.arange(1, H + 1)).T\n",
    "    f_k = np.arange(1, R + 1)\n",
    "    A = np.abs(fftAmpl_v[h * f_k])\n",
    "    P = np.prod(A, axis=0)\n",
    "    F = np.linspace(0, sr_hz / (2 * H), R)\n",
    "\n",
    "    spAmpl_v = P\n",
    "    spFreq_hz_v = F\n",
    "\n",
    "    n_min = int(fmin_hz / sr_hz * Nfft)\n",
    "    n_max = int(fmax_hz / sr_hz * Nfft)\n",
    "    assert n_max < R, \"f_max est trop grand !\"\n",
    "\n",
    "    f0_hz = F[n_min:n_max][np.argmax(spAmpl_v[n_min:n_max])]\n",
    "\n",
    "    return spFreq_hz_v, spAmpl_v, f0_hz"
   ]
  },
  {
   "cell_type": "code",
   "execution_count": 4,
   "metadata": {},
   "outputs": [],
   "source": [
    "def refine_peak(freqs, mag, f, alpha=0.1):\n",
    "    f_min = (1 - alpha) * f\n",
    "    f_max = (1 + alpha) * f\n",
    "\n",
    "    n_min = np.searchsorted(freqs, f_min, side=\"left\")\n",
    "    n_max = np.searchsorted(freqs, f_max, side=\"right\")\n",
    "    assert n_min != 0\n",
    "    assert n_min != len(freqs)\n",
    "    assert n_max != 0\n",
    "    assert n_max != len(freqs)\n",
    "\n",
    "    i_harmo = np.argmax(mag[n_min:n_max])\n",
    "\n",
    "    return i_harmo + n_min"
   ]
  },
  {
   "cell_type": "code",
   "execution_count": 5,
   "metadata": {},
   "outputs": [],
   "source": [
    "# note <-> fréquence\n",
    "def freq_to_midi(freq: float):\n",
    "    note_number_f = 12 * math.log2(freq / 440) + 49\n",
    "    note_number = round(note_number_f)\n",
    "    delta = note_number_f - note_number\n",
    "    return note_number, delta\n",
    "\n",
    "\n",
    "def midi_to_name(midi: int):\n",
    "    notes = [\"A\", \"A#\", \"B\", \"C\", \"C#\", \"D\", \"D#\", \"E\", \"F\", \"F#\", \"G\", \"G#\"]\n",
    "    note = (midi - 1) % len(notes)\n",
    "    note = notes[note]\n",
    "    octave = (midi + 8) // len(notes)\n",
    "\n",
    "    return note + str(octave)"
   ]
  },
  {
   "cell_type": "code",
   "execution_count": 6,
   "metadata": {},
   "outputs": [],
   "source": [
    "def get_envelope(t, x, d=1):\n",
    "    def hl_envelopes_idx(s, dmin=1, dmax=1, split=False):\n",
    "        \"\"\"\n",
    "        Input :\n",
    "        s: 1d-array, data signal from which to extract high and low envelopes\n",
    "        dmin, dmax: int, optional, size of chunks, use this if the size of the input signal is too big\n",
    "        split: bool, optional, if True, split the signal in half along its mean, might help to generate the envelope in some cases\n",
    "        Output :\n",
    "        lmin,lmax : high/low envelope idx of input signal s\n",
    "        \"\"\"\n",
    "\n",
    "        # locals min\n",
    "        lmin = (np.diff(np.sign(np.diff(s))) > 0).nonzero()[0] + 1\n",
    "        # locals max\n",
    "        lmax = (np.diff(np.sign(np.diff(s))) < 0).nonzero()[0] + 1\n",
    "\n",
    "        if split:\n",
    "            # s_mid is zero if s centered around x-axis or more generally mean of signal\n",
    "            s_mid = np.mean(s)\n",
    "            # pre-sorting of locals min based on relative position with respect to s_mid\n",
    "            lmin = lmin[s[lmin] < s_mid]\n",
    "            # pre-sorting of local max based on relative position with respect to s_mid\n",
    "            lmax = lmax[s[lmax] > s_mid]\n",
    "\n",
    "        # global min of dmin-chunks of locals min\n",
    "        lmin = lmin[\n",
    "            [i + np.argmin(s[lmin[i : i + dmin]]) for i in range(0, len(lmin), dmin)]\n",
    "        ]\n",
    "        # global max of dmax-chunks of locals max\n",
    "        lmax = lmax[\n",
    "            [i + np.argmax(s[lmax[i : i + dmax]]) for i in range(0, len(lmax), dmax)]\n",
    "        ]\n",
    "\n",
    "        return lmin, lmax\n",
    "\n",
    "    _, lmax = hl_envelopes_idx(x, dmax=d)\n",
    "    lmax = np.interp(t, t[lmax], x[lmax])\n",
    "    return lmax"
   ]
  },
  {
   "cell_type": "code",
   "execution_count": 7,
   "metadata": {},
   "outputs": [],
   "source": [
    "def traiter(filename, harmos, titre):\n",
    "    plt.ioff()\n",
    "    window = np.hamming\n",
    "\n",
    "    fs, sig = scipy.io.wavfile.read(filename)\n",
    "    sig = sig.astype(np.float32)\n",
    "    sig /= np.max(abs(sig))\n",
    "\n",
    "    t = np.arange(len(sig)) / fs\n",
    "\n",
    "    env = get_envelope(t, sig, 100)\n",
    "\n",
    "    plt.figure(figsize=(15, 3))\n",
    "    plt.plot(t, sig)\n",
    "    plt.plot(t, env)\n",
    "    plt.savefig(filename + \".env.png\")\n",
    "\n",
    "    ##### CUTTING\n",
    "\n",
    "    MARGE_START_BEFORE = int(0.01 * fs)\n",
    "    MARGE_START_AFTER = int(0.1 * fs)\n",
    "    MARGE_SEARCH_END = int(0.2 * fs)\n",
    "    MARGE_SILENCE = 0.01\n",
    "\n",
    "    i_silence = np.argmax(abs(sig)) - MARGE_START_BEFORE\n",
    "    print(f\"le signal commence à {i_silence/fs} s\")\n",
    "    silence_level = np.max(abs(sig[:i_silence]))\n",
    "    print(\n",
    "        f\"niveau de silence: {20*np.log10(silence_level):.2f} dB ({silence_level:.2f} V)\"\n",
    "    )\n",
    "\n",
    "    i_start = i_silence + MARGE_START_AFTER\n",
    "\n",
    "    i_searchend = i_start + MARGE_SEARCH_END\n",
    "    i_end = i_searchend + np.argmax(env[i_searchend:] < silence_level + MARGE_SILENCE)\n",
    "    print(\"le signal finit à\", i_end / fs)\n",
    "\n",
    "    # zoom = 0.01\n",
    "    # plt.figure(figsize=(15, 5))\n",
    "    # plt.title(f\"bruit de fond: {20*np.log10(silence_level):.2f} dB\")\n",
    "    # plt.subplot(1, 3, 1)\n",
    "    # plt.plot(t, abs(sig))\n",
    "    # plt.plot(t, env)\n",
    "    # plt.hlines(silence_level, t[0], t[-1], \"red\")\n",
    "    # plt.vlines(t[i_silence], 0, 1, \"red\")\n",
    "    # plt.xlim(t[i_silence] - zoom, t[i_silence] + zoom)\n",
    "    # plt.subplot(1, 3, 2)\n",
    "    # plt.plot(t, abs(sig))\n",
    "    # plt.plot(t, env)\n",
    "    # plt.hlines(silence_level, t[0], t[-1], \"red\")\n",
    "    # plt.vlines(t[i_start], 0, 1, \"red\")\n",
    "    # plt.xlim(t[i_start] - zoom, t[i_start] + zoom)\n",
    "    # plt.subplot(1, 3, 3)\n",
    "    # plt.plot(t, abs(sig))\n",
    "    # plt.plot(t, env)\n",
    "    # plt.hlines(silence_level, t[0], t[-1], \"red\")\n",
    "    # plt.vlines(t[i_end], 0, 1, \"red\")\n",
    "    # plt.xlim(t[i_end] - zoom, t[i_end] + zoom)\n",
    "    # plt.savefig(filename + \".decoupe.png\")\n",
    "\n",
    "    sig_cut = sig[i_start:i_end]\n",
    "    t_cut = t[i_start:i_end]\n",
    "    # plt.figure(figsize=(15, 3))\n",
    "    # plt.plot(t_cut, sig_cut)\n",
    "    # plt.savefig(filename + \".statio.png\")\n",
    "\n",
    "    # spectre\n",
    "    Nfft = 8 * nextpow2(sig_cut.shape[0])\n",
    "    freqs = np.fft.rfftfreq(Nfft, 1 / fs)\n",
    "    fft = np.fft.rfft(sig_cut * window(len(sig_cut)), Nfft) / len(sig_cut)\n",
    "    mag = abs(fft)\n",
    "\n",
    "    # align harmos with fft bins\n",
    "    harmos = np.array(harmos)\n",
    "    harmos_ratio = np.zeros_like(harmos, dtype=np.float32)\n",
    "    harmos_idx = np.zeros_like(harmos, dtype=np.int64)\n",
    "    harmos_amp = np.zeros_like(harmos, dtype=np.float32)\n",
    "    for n, f in enumerate(harmos):\n",
    "        i = refine_peak(freqs, mag, f, 0.01)\n",
    "        harmos_idx[n] = i\n",
    "        harmos[n] = freqs[i]\n",
    "        harmos_ratio[n] = freqs[i] / harmos[0]\n",
    "        harmos_amp[n] = 20 * np.log10(mag[i])\n",
    "\n",
    "    midi, delta = freq_to_midi(harmos[0])\n",
    "    print(f\"{harmos[0]:.2f} Hz, (={midi_to_name(midi)}{delta:+.2f} Hz)\")\n",
    "\n",
    "    plt.figure(figsize=(15, 3))\n",
    "    plt.xlim(min(harmos) - 200, max(harmos) + 200)\n",
    "    plt.plot(freqs, 20 * np.log10(mag))\n",
    "    for f in harmos:\n",
    "        plt.axvline(f, linestyle=\"--\", color=\"red\", alpha=0.6)\n",
    "    plt.savefig(filename + \".spectre.png\")\n",
    "\n",
    "    table = pd.DataFrame(\n",
    "        np.c_[harmos, harmos_ratio],\n",
    "        columns=[\"Fréquence (Hz)\", \"Ratio d'harmonicité\"],\n",
    "    )\n",
    "    table.to_latex(\n",
    "        filename + \".partiels.tex\",\n",
    "        index=True,\n",
    "        float_format=\"%.2f\",\n",
    "        caption=f\"Partiels de {titre}\",\n",
    "        label=f\"table:partiels-{filename}\",\n",
    "    )\n",
    "    # display(pd.DataFrame(np.c_[harmos, rapport_harmo], columns=[\"Fréquence\", \"Rapport harmonique\"]))\n",
    "\n",
    "    ####\n",
    "    # plt.figure(figsize=(15, 3*len(harmos)))\n",
    "    # plt.suptitle(\"Analyse des partiels de \" + titre)\n",
    "    # for i, f in enumerate(harmos):\n",
    "    #     plt.subplot(len(harmos), 1, i+1)\n",
    "    #     delta = 1\n",
    "    #     window = np.where(np.logical_and(freqs > f-delta, freqs < f+delta), 1, 0)\n",
    "    #     filt = scipy.signal.butter(\n",
    "    #         2, (f/delta, f*delta), btype=\"bandpass\", fs=fs, output=\"sos\"\n",
    "    #     )\n",
    "    #     plt.loglog(*scipy.signal.sosfreqz(filt,fs=fs))\n",
    "    #     plt.show()\n",
    "    #     sig_filtered = scipy.signal.sosfilt(filt, sig_cut)\n",
    "    #     env_filtered = get_envelope(t_cut, sig_filtered, 5)\n",
    "    #     plt.title(f\"Partiel $f_{i}={f:.1f} Hz = {f/harmos[0]:.1f} f_0$\")\n",
    "    #     plt.plot(t_cut, sig_filtered, label=\"partiel filtré\")\n",
    "    #     plt.plot(t_cut, env_filtered, label=\"enveloppe\")\n",
    "\n",
    "    #     def exp_decay(x, A, alpha):\n",
    "    #         return A * np.exp(-alpha * x)\n",
    "    #     try:\n",
    "    #         popt, pcov = scipy.optimize.curve_fit(exp_decay, t_cut, env_filtered)\n",
    "    #         perr = np.sqrt(np.diag(pcov))\n",
    "    #         print(f, popt, perr)\n",
    "    #         plt.plot(t_cut, exp_decay(t_cut, *popt), label=\"enveloppe fittée\")\n",
    "    #     except RuntimeError:\n",
    "    #         print(f\"pas pu fitter pour le f_{i}\")\n",
    "    #     # display(Audio(sig_filtered, rate=fs))\n",
    "    # plt.legend()\n",
    "    # plt.savefig(filename+\".partiels.png\")\n",
    "    plt.ion()"
   ]
  },
  {
   "cell_type": "code",
   "execution_count": 8,
   "metadata": {},
   "outputs": [
    {
     "name": "stderr",
     "output_type": "stream",
     "text": [
      "/tmp/ipykernel_17600/4096297392.py:5: WavFileWarning: Chunk (non-data) not understood, skipping it.\n",
      "  fs, sig = scipy.io.wavfile.read(filename)\n"
     ]
    },
    {
     "name": "stdout",
     "output_type": "stream",
     "text": [
      "le signal commence à 1.5698541666666668 s\n",
      "niveau de silence: -52.77 dB (0.00 V)\n",
      "le signal finit à 2.1426666666666665\n",
      "703.86 Hz, (=F5+0.13 Hz)\n"
     ]
    },
    {
     "name": "stderr",
     "output_type": "stream",
     "text": [
      "/tmp/ipykernel_17600/4096297392.py:99: FutureWarning: In future versions `DataFrame.to_latex` is expected to utilise the base implementation of `Styler.to_latex` for formatting and rendering. The arguments signature may therefore change. It is recommended instead to use `DataFrame.style.to_latex` which also contains additional functionality.\n",
      "  table.to_latex(\n",
      "/tmp/ipykernel_17600/4096297392.py:5: WavFileWarning: Chunk (non-data) not understood, skipping it.\n",
      "  fs, sig = scipy.io.wavfile.read(filename)\n"
     ]
    },
    {
     "name": "stdout",
     "output_type": "stream",
     "text": [
      "le signal commence à 2.3575208333333335 s\n",
      "niveau de silence: -48.31 dB (0.00 V)\n",
      "le signal finit à 3.4780208333333333\n",
      "1410.64 Hz, (=F6+0.17 Hz)\n"
     ]
    },
    {
     "name": "stderr",
     "output_type": "stream",
     "text": [
      "/tmp/ipykernel_17600/4096297392.py:99: FutureWarning: In future versions `DataFrame.to_latex` is expected to utilise the base implementation of `Styler.to_latex` for formatting and rendering. The arguments signature may therefore change. It is recommended instead to use `DataFrame.style.to_latex` which also contains additional functionality.\n",
      "  table.to_latex(\n",
      "/tmp/ipykernel_17600/4096297392.py:5: WavFileWarning: Chunk (non-data) not understood, skipping it.\n",
      "  fs, sig = scipy.io.wavfile.read(filename)\n"
     ]
    },
    {
     "name": "stdout",
     "output_type": "stream",
     "text": [
      "le signal commence à 2.4601041666666665 s\n",
      "niveau de silence: -51.10 dB (0.00 V)\n",
      "le signal finit à 3.060791666666667\n",
      "2835.94 Hz, (=F7+0.26 Hz)\n"
     ]
    },
    {
     "name": "stderr",
     "output_type": "stream",
     "text": [
      "/tmp/ipykernel_17600/4096297392.py:99: FutureWarning: In future versions `DataFrame.to_latex` is expected to utilise the base implementation of `Styler.to_latex` for formatting and rendering. The arguments signature may therefore change. It is recommended instead to use `DataFrame.style.to_latex` which also contains additional functionality.\n",
      "  table.to_latex(\n"
     ]
    },
    {
     "name": "stdout",
     "output_type": "stream",
     "text": [
      "le signal commence à 0.10345833333333333 s\n",
      "niveau de silence: -34.31 dB (0.02 V)\n",
      "le signal finit à 7.2730625\n",
      "173.69 Hz, (=F3-0.09 Hz)\n"
     ]
    },
    {
     "name": "stderr",
     "output_type": "stream",
     "text": [
      "/tmp/ipykernel_17600/4096297392.py:99: FutureWarning: In future versions `DataFrame.to_latex` is expected to utilise the base implementation of `Styler.to_latex` for formatting and rendering. The arguments signature may therefore change. It is recommended instead to use `DataFrame.style.to_latex` which also contains additional functionality.\n",
      "  table.to_latex(\n"
     ]
    },
    {
     "name": "stdout",
     "output_type": "stream",
     "text": [
      "le signal commence à 0.0655 s\n",
      "niveau de silence: -31.10 dB (0.03 V)\n",
      "le signal finit à 14.934291666666667\n",
      "442.01 Hz, (=A4+0.08 Hz)\n"
     ]
    },
    {
     "name": "stderr",
     "output_type": "stream",
     "text": [
      "/tmp/ipykernel_17600/4096297392.py:99: FutureWarning: In future versions `DataFrame.to_latex` is expected to utilise the base implementation of `Styler.to_latex` for formatting and rendering. The arguments signature may therefore change. It is recommended instead to use `DataFrame.style.to_latex` which also contains additional functionality.\n",
      "  table.to_latex(\n"
     ]
    },
    {
     "name": "stdout",
     "output_type": "stream",
     "text": [
      "le signal commence à 0.1125 s\n",
      "niveau de silence: -32.04 dB (0.03 V)\n",
      "le signal finit à 13.2305\n",
      "442.01 Hz, (=A4+0.08 Hz)\n"
     ]
    },
    {
     "name": "stderr",
     "output_type": "stream",
     "text": [
      "/tmp/ipykernel_17600/4096297392.py:99: FutureWarning: In future versions `DataFrame.to_latex` is expected to utilise the base implementation of `Styler.to_latex` for formatting and rendering. The arguments signature may therefore change. It is recommended instead to use `DataFrame.style.to_latex` which also contains additional functionality.\n",
      "  table.to_latex(\n"
     ]
    },
    {
     "name": "stdout",
     "output_type": "stream",
     "text": [
      "le signal commence à 0.07004166666666667 s\n",
      "niveau de silence: -36.94 dB (0.01 V)\n",
      "le signal finit à 10.177604166666667\n",
      "1324.00 Hz, (=E6+0.07 Hz)\n"
     ]
    },
    {
     "name": "stderr",
     "output_type": "stream",
     "text": [
      "/tmp/ipykernel_17600/4096297392.py:99: FutureWarning: In future versions `DataFrame.to_latex` is expected to utilise the base implementation of `Styler.to_latex` for formatting and rendering. The arguments signature may therefore change. It is recommended instead to use `DataFrame.style.to_latex` which also contains additional functionality.\n",
      "  table.to_latex(\n"
     ]
    },
    {
     "name": "stdout",
     "output_type": "stream",
     "text": [
      "le signal commence à 0.083625 s\n",
      "niveau de silence: -38.40 dB (0.01 V)\n",
      "le signal finit à 1.3696041666666667\n",
      "124.05 Hz, (=B2+0.08 Hz)\n"
     ]
    },
    {
     "name": "stderr",
     "output_type": "stream",
     "text": [
      "/tmp/ipykernel_17600/4096297392.py:99: FutureWarning: In future versions `DataFrame.to_latex` is expected to utilise the base implementation of `Styler.to_latex` for formatting and rendering. The arguments signature may therefore change. It is recommended instead to use `DataFrame.style.to_latex` which also contains additional functionality.\n",
      "  table.to_latex(\n"
     ]
    },
    {
     "name": "stdout",
     "output_type": "stream",
     "text": [
      "le signal commence à 0.1400625 s\n",
      "niveau de silence: -1.89 dB (0.80 V)\n",
      "le signal finit à 0.4400625\n",
      "125.98 Hz, (=B2+0.35 Hz)\n"
     ]
    },
    {
     "name": "stderr",
     "output_type": "stream",
     "text": [
      "/tmp/ipykernel_17600/4096297392.py:99: FutureWarning: In future versions `DataFrame.to_latex` is expected to utilise the base implementation of `Styler.to_latex` for formatting and rendering. The arguments signature may therefore change. It is recommended instead to use `DataFrame.style.to_latex` which also contains additional functionality.\n",
      "  table.to_latex(\n"
     ]
    },
    {
     "name": "stdout",
     "output_type": "stream",
     "text": [
      "le signal commence à 0.11620833333333333 s\n",
      "niveau de silence: -50.45 dB (0.00 V)\n",
      "le signal finit à 1.4717708333333333\n",
      "123.87 Hz, (=B2+0.06 Hz)\n"
     ]
    },
    {
     "name": "stderr",
     "output_type": "stream",
     "text": [
      "/tmp/ipykernel_17600/4096297392.py:99: FutureWarning: In future versions `DataFrame.to_latex` is expected to utilise the base implementation of `Styler.to_latex` for formatting and rendering. The arguments signature may therefore change. It is recommended instead to use `DataFrame.style.to_latex` which also contains additional functionality.\n",
      "  table.to_latex(\n"
     ]
    },
    {
     "name": "stdout",
     "output_type": "stream",
     "text": [
      "le signal commence à 0.08839583333333334 s\n",
      "niveau de silence: -55.73 dB (0.00 V)\n",
      "le signal finit à 0.5125416666666667\n",
      "125.98 Hz, (=B2+0.35 Hz)\n"
     ]
    },
    {
     "name": "stderr",
     "output_type": "stream",
     "text": [
      "/tmp/ipykernel_17600/4096297392.py:99: FutureWarning: In future versions `DataFrame.to_latex` is expected to utilise the base implementation of `Styler.to_latex` for formatting and rendering. The arguments signature may therefore change. It is recommended instead to use `DataFrame.style.to_latex` which also contains additional functionality.\n",
      "  table.to_latex(\n"
     ]
    },
    {
     "name": "stdout",
     "output_type": "stream",
     "text": [
      "le signal commence à 0.047875 s\n",
      "niveau de silence: -10.00 dB (0.32 V)\n",
      "le signal finit à 0.347875\n"
     ]
    },
    {
     "ename": "IndexError",
     "evalue": "index 0 is out of bounds for axis 0 with size 0",
     "output_type": "error",
     "traceback": [
      "\u001b[0;31m---------------------------------------------------------------------------\u001b[0m",
      "\u001b[0;31mIndexError\u001b[0m                                Traceback (most recent call last)",
      "\u001b[1;32m/mnt/DATA/Documents/ATIAM/rendus/TP-Acoustique-ATIAM/percu/tp.ipynb Cell 8\u001b[0m line \u001b[0;36m1\n\u001b[1;32m     <a href='vscode-notebook-cell:/mnt/DATA/Documents/ATIAM/rendus/TP-Acoustique-ATIAM/percu/tp.ipynb#X11sZmlsZQ%3D%3D?line=12'>13</a>\u001b[0m harmos \u001b[39m=\u001b[39m [file[k] \u001b[39mfor\u001b[39;00m k \u001b[39min\u001b[39;00m file\u001b[39m.\u001b[39mkeys()[\u001b[39m2\u001b[39m:] \u001b[39mif\u001b[39;00m \u001b[39mnot\u001b[39;00m pd\u001b[39m.\u001b[39misna(file[k])]\n\u001b[1;32m     <a href='vscode-notebook-cell:/mnt/DATA/Documents/ATIAM/rendus/TP-Acoustique-ATIAM/percu/tp.ipynb#X11sZmlsZQ%3D%3D?line=13'>14</a>\u001b[0m harmos \u001b[39m=\u001b[39m \u001b[39msorted\u001b[39m(harmos)\n\u001b[0;32m---> <a href='vscode-notebook-cell:/mnt/DATA/Documents/ATIAM/rendus/TP-Acoustique-ATIAM/percu/tp.ipynb#X11sZmlsZQ%3D%3D?line=14'>15</a>\u001b[0m traiter(filename, harmos, titre)\n\u001b[1;32m     <a href='vscode-notebook-cell:/mnt/DATA/Documents/ATIAM/rendus/TP-Acoustique-ATIAM/percu/tp.ipynb#X11sZmlsZQ%3D%3D?line=15'>16</a>\u001b[0m plt\u001b[39m.\u001b[39mclose(\u001b[39m\"\u001b[39m\u001b[39mall\u001b[39m\u001b[39m\"\u001b[39m)\n",
      "\u001b[1;32m/mnt/DATA/Documents/ATIAM/rendus/TP-Acoustique-ATIAM/percu/tp.ipynb Cell 8\u001b[0m line \u001b[0;36m8\n\u001b[1;32m     <a href='vscode-notebook-cell:/mnt/DATA/Documents/ATIAM/rendus/TP-Acoustique-ATIAM/percu/tp.ipynb#X11sZmlsZQ%3D%3D?line=81'>82</a>\u001b[0m     harmos_ratio[n] \u001b[39m=\u001b[39m freqs[i] \u001b[39m/\u001b[39m harmos[\u001b[39m0\u001b[39m]\n\u001b[1;32m     <a href='vscode-notebook-cell:/mnt/DATA/Documents/ATIAM/rendus/TP-Acoustique-ATIAM/percu/tp.ipynb#X11sZmlsZQ%3D%3D?line=82'>83</a>\u001b[0m     harmos_amp[n] \u001b[39m=\u001b[39m \u001b[39m20\u001b[39m \u001b[39m*\u001b[39m np\u001b[39m.\u001b[39mlog10(mag[i])\n\u001b[0;32m---> <a href='vscode-notebook-cell:/mnt/DATA/Documents/ATIAM/rendus/TP-Acoustique-ATIAM/percu/tp.ipynb#X11sZmlsZQ%3D%3D?line=84'>85</a>\u001b[0m midi, delta \u001b[39m=\u001b[39m freq_to_midi(harmos[\u001b[39m0\u001b[39;49m])\n\u001b[1;32m     <a href='vscode-notebook-cell:/mnt/DATA/Documents/ATIAM/rendus/TP-Acoustique-ATIAM/percu/tp.ipynb#X11sZmlsZQ%3D%3D?line=85'>86</a>\u001b[0m \u001b[39mprint\u001b[39m(\u001b[39mf\u001b[39m\u001b[39m\"\u001b[39m\u001b[39m{\u001b[39;00mharmos[\u001b[39m0\u001b[39m]\u001b[39m:\u001b[39;00m\u001b[39m.2f\u001b[39m\u001b[39m}\u001b[39;00m\u001b[39m Hz, (=\u001b[39m\u001b[39m{\u001b[39;00mmidi_to_name(midi)\u001b[39m}\u001b[39;00m\u001b[39m{\u001b[39;00mdelta\u001b[39m:\u001b[39;00m\u001b[39m+.2f\u001b[39m\u001b[39m}\u001b[39;00m\u001b[39m Hz)\u001b[39m\u001b[39m\"\u001b[39m)\n\u001b[1;32m     <a href='vscode-notebook-cell:/mnt/DATA/Documents/ATIAM/rendus/TP-Acoustique-ATIAM/percu/tp.ipynb#X11sZmlsZQ%3D%3D?line=87'>88</a>\u001b[0m plt\u001b[39m.\u001b[39mfigure(figsize\u001b[39m=\u001b[39m(\u001b[39m15\u001b[39m, \u001b[39m3\u001b[39m))\n",
      "\u001b[0;31mIndexError\u001b[0m: index 0 is out of bounds for axis 0 with size 0"
     ]
    },
    {
     "data": {
      "image/png": "[encoded data removed]",
      "text/plain": [
       "<Figure size 1500x300 with 1 Axes>"
      ]
     },
     "metadata": {},
     "output_type": "display_data"
    }
   ],
   "source": [
    "from tqdm import tqdm\n",
    "\n",
    "for csv in [\n",
    "    \"harmoniques_glock.csv\",\n",
    "    \"harmoniques_vibra.csv\",\n",
    "    \"harmoniques_timbale.csv\",\n",
    "]:\n",
    "    files = pd.read_csv(csv)\n",
    "    for _, file in files.iterrows():\n",
    "        filename = file[\"filename\"]\n",
    "        titre = file[\"titre\"]\n",
    "        titre = filename.split(\".\")[0] if pd.isna(titre) else titre\n",
    "        harmos = [file[k] for k in file.keys()[2:] if not pd.isna(file[k])]\n",
    "        harmos = sorted(harmos)\n",
    "        traiter(filename, harmos, titre)\n",
    "        plt.close(\"all\")"
   ]
  },
  {
   "cell_type": "code",
   "execution_count": null,
   "metadata": {},
   "outputs": [],
   "source": []
  }
 ],
 "metadata": {
  "kernelspec": {
   "display_name": "Python 3",
   "language": "python",
   "name": "python3"
  },
  "language_info": {
   "codemirror_mode": {
    "name": "ipython",
    "version": 3
   },
   "file_extension": ".py",
   "mimetype": "text/x-python",
   "name": "python",
   "nbconvert_exporter": "python",
   "pygments_lexer": "ipython3",
   "version": "3.11.6"
  }
 },
 "nbformat": 4,
 "nbformat_minor": 2
}
